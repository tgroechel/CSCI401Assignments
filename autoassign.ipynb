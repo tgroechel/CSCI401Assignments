{
 "cells": [
  {
   "cell_type": "code",
   "execution_count": null,
   "metadata": {},
   "outputs": [],
   "source": [
    "import pandas as pd\n",
    "import seaborn as sns\n",
    "import glob, os\n",
    "import re\n",
    "import numpy as np\n",
    "import matplotlib.pyplot as plt\n",
    "%matplotlib inline\n",
    "from scipy.optimize import linear_sum_assignment\n",
    "import copy\n"
   ]
  },
  {
   "cell_type": "code",
   "execution_count": null,
   "id": "ed597281",
   "metadata": {},
   "outputs": [],
   "source": [
    "df = pd.read_csv(\"data.csv\")"
   ]
  },
  {
   "cell_type": "code",
   "execution_count": null,
   "id": "c5bb6784",
   "metadata": {},
   "outputs": [],
   "source": [
    "df.head()"
   ]
  },
  {
   "cell_type": "code",
   "execution_count": null,
   "id": "c4191195",
   "metadata": {},
   "outputs": [],
   "source": [
    "df = df.fillna(101)"
   ]
  },
  {
   "cell_type": "code",
   "execution_count": null,
   "id": "774eedb8",
   "metadata": {},
   "outputs": [],
   "source": [
    "df"
   ]
  },
  {
   "cell_type": "code",
   "execution_count": null,
   "id": "20eb5ae7",
   "metadata": {},
   "outputs": [],
   "source": [
    "cdf = df.drop(columns=['Timestamp', 'Please enter your time zone compared to LA time. If you are in LA, enter 0. If you are 4 hours ahead, enter +4.  ', 'Please enter your first name', 'Please enter your last name', 'Please enter your USC ID number', 'Do you already have a team? If, so please enter the emails of your team members. Please separate the emails using a (comma). For example, troajan@usc.edu, tommy@usc.edu (This is optional, you do not need to have a team)', 'Is there anything else we should know about your selected projects? For example, Have you ever worked on any of your selected projects before? '])\n",
    "print(len(cdf.columns))"
   ]
  },
  {
   "cell_type": "code",
   "execution_count": null,
   "id": "e1e89c58",
   "metadata": {},
   "outputs": [],
   "source": [
    "cdf"
   ]
  },
  {
   "cell_type": "code",
   "execution_count": null,
   "metadata": {},
   "outputs": [],
   "source": [
    "col_l = copy.deepcopy(cdf.columns)\n",
    "for col in col_l:\n",
    "    if col == 'Please enter your USC email (xxxxx@usc.edu)':\n",
    "        continue\n",
    "    for i in range(4):\n",
    "        new_col = col + str(i)\n",
    "        cdf[new_col] = cdf.loc[:,col]\n",
    "print(cdf.shape)"
   ]
  },
  {
   "cell_type": "code",
   "execution_count": null,
   "id": "2741f061",
   "metadata": {},
   "outputs": [],
   "source": [
    "noemaildf = cdf.drop(columns=['Please enter your USC email (xxxxx@usc.edu)'])\n",
    "row_ind, col_ind = linear_sum_assignment(noemaildf.to_numpy())"
   ]
  },
  {
   "cell_type": "code",
   "execution_count": null,
   "id": "35e2e7e4",
   "metadata": {},
   "outputs": [],
   "source": [
    "noemaildf.to_numpy().shape"
   ]
  },
  {
   "cell_type": "code",
   "execution_count": null,
   "id": "49582de0",
   "metadata": {},
   "outputs": [],
   "source": [
    "col_index_map = {}\n",
    "index = -1\n",
    "for col in cdf.columns:\n",
    "    col_index_map[index] = col\n",
    "    index += 1\n",
    "col_index_map"
   ]
  },
  {
   "cell_type": "code",
   "execution_count": null,
   "id": "34531278",
   "metadata": {},
   "outputs": [],
   "source": [
    "person_index = 0\n",
    "assigned_set = {}\n",
    "for email in cdf['Please enter your USC email (xxxxx@usc.edu)']:\n",
    "    long_project_name = col_index_map[col_ind[row_ind[person_index]]]\n",
    "    projectname = re.search(r\"\\[(.*?)\\]\", long_project_name)[0]\n",
    "    print(email + \"~||~\" + str(projectname))\n",
    "    if projectname in assigned_set:\n",
    "        assigned_set[projectname] += 1\n",
    "    else:\n",
    "        assigned_set[projectname] = 1\n",
    "    person_index += 1"
   ]
  },
  {
   "cell_type": "code",
   "execution_count": null,
   "id": "b16be7a7",
   "metadata": {},
   "outputs": [],
   "source": [
    "print(row_ind)\n",
    "print(col_ind)\n",
    "print(\"cost: \" + str(noemaildf.to_numpy()[row_ind,col_ind].sum()))"
   ]
  },
  {
   "cell_type": "code",
   "execution_count": null,
   "id": "8dc750a4",
   "metadata": {},
   "outputs": [],
   "source": [
    "for i in range(len(row_ind) - 1):\n",
    "    if row_ind[i] > row_ind[i + 1]:\n",
    "        print(i)"
   ]
  },
  {
   "cell_type": "code",
   "execution_count": null,
   "id": "3707c52c",
   "metadata": {},
   "outputs": [],
   "source": [
    "for k, v in assigned_set.items():\n",
    "    print(k + \"~||~\" + str(v))"
   ]
  }
 ],
 "metadata": {
  "interpreter": {
   "hash": "c6e4e9f98eb68ad3b7c296f83d20e6de614cb42e90992a65aa266555a3137d0d"
  },
  "kernelspec": {
   "display_name": "Python 3.9.7 64-bit ('base': conda)",
   "language": "python",
   "name": "python3"
  },
  "language_info": {
   "codemirror_mode": {
    "name": "ipython",
    "version": 3
   },
   "file_extension": ".py",
   "mimetype": "text/x-python",
   "name": "python",
   "nbconvert_exporter": "python",
   "pygments_lexer": "ipython3",
   "version": "3.9.7"
  }
 },
 "nbformat": 4,
 "nbformat_minor": 5
}
